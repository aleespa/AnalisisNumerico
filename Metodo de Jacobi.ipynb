{
 "cells": [
  {
   "cell_type": "code",
   "execution_count": 51,
   "metadata": {},
   "outputs": [],
   "source": [
    "from __future__ import division\n",
    "import numpy as np\n",
    "import math\n",
    "from math import sqrt"
   ]
  },
  {
   "cell_type": "code",
   "execution_count": 2,
   "metadata": {},
   "outputs": [
    {
     "data": {
      "text/plain": [
       "matrix([[ 5.,  0., -2.],\n",
       "        [-4.,  8.,  2.],\n",
       "        [ 0.,  5.,  9.]])"
      ]
     },
     "execution_count": 2,
     "metadata": {},
     "output_type": "execute_result"
    }
   ],
   "source": [
    "A = np.matrix([[5,0,-2],[-4,8,2],[0,5,9]]).astype(float)\n",
    "A"
   ]
  },
  {
   "cell_type": "code",
   "execution_count": 58,
   "metadata": {},
   "outputs": [
    {
     "name": "stdout",
     "output_type": "stream",
     "text": [
      "[[-1.]\n",
      " [18.]\n",
      " [37.]]\n"
     ]
    }
   ],
   "source": [
    "y = np.matrix([-1,18,37]).astype(float).T\n",
    "print(y)"
   ]
  },
  {
   "cell_type": "code",
   "execution_count": 174,
   "metadata": {},
   "outputs": [],
   "source": [
    "def Jacobi(A,y,error):\n",
    "    n = len(A)\n",
    "    def q_uno(A):\n",
    "        return(max(sum(abs(A[k,j]/A[j,j]) for k in range(n) if k != j) \n",
    "        for j in range(n)))\n",
    "    def q_inf(A):\n",
    "        return(max(sum(abs(A[j,k]/A[j,j]) for k in range(n) if k != j) \n",
    "        for j in range(n)))\n",
    "    def q_dos(A):\n",
    "        return(sqrt(sum(sum(abs(A[j,k]/A[j,j])**2 for k in range(n) if k != j) \n",
    "        for j in range(n))))\n",
    "    if (q_uno(A)<1) or (q_inf(A)<1) or (q_dos(A)<1):\n",
    "        x = np.matrix([0 for _ in range(n)]).astype(float).T\n",
    "        while (np.linalg.norm(A*x-y)>error):\n",
    "            for j in range(n):\n",
    "                x[j,0] = -sum(A[j,k]/A[j,j]*x[k,0] for k in range(n) if j != k)+y[j,0]/A[j,j]\n",
    "        return(x)\n",
    "    else:\n",
    "        print(\"El sistema no cumple las hipótesis\")"
   ]
  },
  {
   "cell_type": "code",
   "execution_count": 176,
   "metadata": {},
   "outputs": [
    {
     "data": {
      "text/plain": [
       "matrix([[1.],\n",
       "        [2.],\n",
       "        [3.]])"
      ]
     },
     "execution_count": 176,
     "metadata": {},
     "output_type": "execute_result"
    }
   ],
   "source": [
    "Jacobi(A,y,0.00000001)"
   ]
  },
  {
   "cell_type": "code",
   "execution_count": 196,
   "metadata": {},
   "outputs": [
    {
     "name": "stdout",
     "output_type": "stream",
     "text": [
      "[[ 7. 15. 29. 15. 21.]\n",
      " [36. 29. 16. 27. 47.]\n",
      " [15.  0.  6. 45.  5.]\n",
      " [38.  6. 30. 26. 14.]\n",
      " [11. 27. 35.  6. 30.]]\n",
      "[[17.]\n",
      " [17.]\n",
      " [ 6.]\n",
      " [16.]\n",
      " [16.]]\n"
     ]
    }
   ],
   "source": [
    "B = np.matrix([[np.random.randint(50) for j in range(5)] for i in range(5)]).astype(float)\n",
    "w = np.matrix([np.random.randint(50) for j in range(5)]).astype(float).T\n",
    "print(B)\n",
    "print(w)"
   ]
  },
  {
   "cell_type": "code",
   "execution_count": 197,
   "metadata": {},
   "outputs": [
    {
     "name": "stdout",
     "output_type": "stream",
     "text": [
      "El sistema no cumple las hipótesis\n"
     ]
    }
   ],
   "source": [
    "Jacobi(B,w,0.0001)"
   ]
  }
 ],
 "metadata": {
  "kernelspec": {
   "display_name": "Python 2",
   "language": "python",
   "name": "python2"
  },
  "language_info": {
   "codemirror_mode": {
    "name": "ipython",
    "version": 2
   },
   "file_extension": ".py",
   "mimetype": "text/x-python",
   "name": "python",
   "nbconvert_exporter": "python",
   "pygments_lexer": "ipython2",
   "version": "2.7.15+"
  }
 },
 "nbformat": 4,
 "nbformat_minor": 2
}
