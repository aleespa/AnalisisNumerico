{
 "cells": [
  {
   "cell_type": "code",
   "execution_count": 122,
   "metadata": {},
   "outputs": [],
   "source": [
    "from __future__ import division\n",
    "from math import cos,sin,sqrt"
   ]
  },
  {
   "cell_type": "code",
   "execution_count": 95,
   "metadata": {},
   "outputs": [],
   "source": [
    "import numpy as np"
   ]
  },
  {
   "cell_type": "code",
   "execution_count": 111,
   "metadata": {},
   "outputs": [],
   "source": [
    "f = lambda x:np.array((1/2*cos(x[0])-1/2*sin(x[1]),\n",
    "                       1/2*sin(x[0])+1/2*cos(x[1])))"
   ]
  },
  {
   "cell_type": "code",
   "execution_count": 124,
   "metadata": {},
   "outputs": [
    {
     "name": "stdout",
     "output_type": "stream",
     "text": [
      "(array([0, 1]), 1.7723718333814404)\n",
      "(array([0.07926451, 0.27015115]), 0.9186521815993188)\n",
      "(array([0.36499155, 0.52145605]), 0.41683068637390663)\n",
      "(array([0.21799179, 0.61201809]), 0.23217035072994424)\n",
      "(array([0.20090666, 0.51737981]), 0.10875521998482228)\n",
      "(array([0.24264073, 0.53433798]), 0.048363704175341096)\n",
      "(array([0.23071774, 0.5504364 ]), 0.027442626588513725)\n",
      "(array([0.22522165, 0.54048632]), 0.011769498499085394)\n",
      "(array([0.23009579, 0.54039048]), 0.00592022689505649)\n",
      "(array([0.22958684, 0.54278932]), 0.0031390396571138123)\n",
      "(array([0.22861704, 0.54192324]), 0.0013073302720694186)\n",
      "(array([0.22909806, 0.54167453]), 0.000731170658295773)\n",
      "(array([0.22915005, 0.54197289]), 0.00034604645588840366)\n",
      "(array([0.22901633, 0.54192127]), 0.000154095985009347)\n",
      "(array([0.22905362, 0.54186947]), 8.757372835008464e-05)\n",
      "(array([0.22907158, 0.54190099]), 3.7546549925299684e-05)\n",
      "(array([0.22905604, 0.54190161]), 1.90003102616375e-05)\n",
      "(array([0.22905754, 0.54189388]), 1.0032536007866847e-05)\n",
      "(array([0.22906068, 0.54189661]), 4.182873890124629e-06)\n",
      "(array([0.22905915, 0.54189743]), 2.345783790834795e-06)\n",
      "(array([0.22905897, 0.54189648]), 1.1048279585327422e-06)\n",
      "(array([0.2290594 , 0.54189663]), 4.942620842623971e-07)\n",
      "(array([0.22905929, 0.5418968 ]), 2.8046386564667774e-07)\n"
     ]
    }
   ],
   "source": [
    "x = np.array((0,1))\n",
    "q = 1/sqrt(2)\n",
    "while np.linalg.norm(x-f(x))>0.0000001:\n",
    "    print(x,q/(1-q)*np.linalg.norm(x-f(x)))\n",
    "    x = f(x)"
   ]
  }
 ],
 "metadata": {
  "kernelspec": {
   "display_name": "Python 2",
   "language": "python",
   "name": "python2"
  },
  "language_info": {
   "codemirror_mode": {
    "name": "ipython",
    "version": 2
   },
   "file_extension": ".py",
   "mimetype": "text/x-python",
   "name": "python",
   "nbconvert_exporter": "python",
   "pygments_lexer": "ipython2",
   "version": "2.7.15+"
  }
 },
 "nbformat": 4,
 "nbformat_minor": 2
}
