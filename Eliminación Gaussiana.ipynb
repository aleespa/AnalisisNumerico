{
 "cells": [
  {
   "cell_type": "code",
   "execution_count": 2,
   "metadata": {},
   "outputs": [],
   "source": [
    "import numpy as np\n",
    "import math\n",
    "from __future__ import division"
   ]
  },
  {
   "cell_type": "code",
   "execution_count": 3,
   "metadata": {
    "scrolled": false
   },
   "outputs": [],
   "source": [
    "n = 5\n",
    "A = np.matrix([[np.random.randint(30)*np.random.choice([-1,1]) for _ in range(n+1)] for _ in range(n)]).astype(float)\n",
    "B = A.copy()"
   ]
  },
  {
   "cell_type": "code",
   "execution_count": 4,
   "metadata": {},
   "outputs": [
    {
     "name": "stdout",
     "output_type": "stream",
     "text": [
      "[[-13.  -1.  22.  28. -25. -24.]\n",
      " [-25. -22.  16. -21.  13. -22.]\n",
      " [ 12.  -3.  -4.  11. -18.   5.]\n",
      " [-15.  29.  28.  -2. -13. -17.]\n",
      " [-14.  26. -28. -14. -27. -15.]]\n"
     ]
    }
   ],
   "source": [
    "print(B)"
   ]
  },
  {
   "cell_type": "code",
   "execution_count": 5,
   "metadata": {},
   "outputs": [],
   "source": [
    "for j in range(n-1):\n",
    "    k = 1\n",
    "    while A[j,j] == 0:\n",
    "        A[[j,j+k]] = A[[j+k,j]]\n",
    "        k += 1\n",
    "    for i in range(j+1,n):    \n",
    "        A[i] = A[i]-A[j]*1/(A[j,j])*A[i,j]"
   ]
  },
  {
   "cell_type": "code",
   "execution_count": 6,
   "metadata": {},
   "outputs": [
    {
     "name": "stdout",
     "output_type": "stream",
     "text": [
      "[[ -13.           -1.           22.           28.          -25.\n",
      "   -24.        ]\n",
      " [   0.          -20.07692308  -26.30769231  -74.84615385   61.07692308\n",
      "    24.15384615]\n",
      " [   0.            0.           21.44827586   51.47126437  -53.01149425\n",
      "   -21.87356322]\n",
      " [   0.            0.            0.          -58.1764916    16.38513755\n",
      "     9.34119328]\n",
      " [   0.            0.            0.            0.         -115.10678228\n",
      "   -35.18725589]]\n"
     ]
    }
   ],
   "source": [
    "print(A)"
   ]
  },
  {
   "cell_type": "code",
   "execution_count": 7,
   "metadata": {},
   "outputs": [
    {
     "name": "stdout",
     "output_type": "stream",
     "text": [
      "[[ 0.94410615  0.11664101 -0.08556916 -0.07446965  0.30569229]]\n"
     ]
    }
   ],
   "source": [
    "X = np.matrix([0 for x in range(n)]).astype(float)\n",
    "X[0,n-1] = A[n-1,n]/A[n-1,n-1]\n",
    "for i in range(n-1):\n",
    "    X[0,n-i-2] = (A[n-i-2,n] -sum([A[n-i-2,j+1]*X[0,j+1] for j in range(n-i-2,n-1)]))/A[n-i-2,n-i-2]\n",
    "print(X)    "
   ]
  },
  {
   "cell_type": "code",
   "execution_count": 8,
   "metadata": {},
   "outputs": [
    {
     "data": {
      "text/plain": [
       "matrix([[-24.],\n",
       "        [-22.],\n",
       "        [  5.],\n",
       "        [-17.],\n",
       "        [-15.]])"
      ]
     },
     "execution_count": 8,
     "metadata": {},
     "output_type": "execute_result"
    }
   ],
   "source": [
    "B[:,range(n)]*X.T"
   ]
  },
  {
   "cell_type": "code",
   "execution_count": 9,
   "metadata": {},
   "outputs": [
    {
     "data": {
      "text/plain": [
       "matrix([[-24.],\n",
       "        [-22.],\n",
       "        [  5.],\n",
       "        [-17.],\n",
       "        [-15.]])"
      ]
     },
     "execution_count": 9,
     "metadata": {},
     "output_type": "execute_result"
    }
   ],
   "source": [
    "B[:,[n]]"
   ]
  }
 ],
 "metadata": {
  "kernelspec": {
   "display_name": "Python 2",
   "language": "python",
   "name": "python2"
  },
  "language_info": {
   "codemirror_mode": {
    "name": "ipython",
    "version": 2
   },
   "file_extension": ".py",
   "mimetype": "text/x-python",
   "name": "python",
   "nbconvert_exporter": "python",
   "pygments_lexer": "ipython2",
   "version": "2.7.15+"
  }
 },
 "nbformat": 4,
 "nbformat_minor": 2
}
