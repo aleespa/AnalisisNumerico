{
 "cells": [
  {
   "cell_type": "code",
   "execution_count": 1,
   "metadata": {},
   "outputs": [],
   "source": [
    "import numpy as np\n",
    "import math"
   ]
  },
  {
   "cell_type": "code",
   "execution_count": 57,
   "metadata": {},
   "outputs": [
    {
     "name": "stdout",
     "output_type": "stream",
     "text": [
      "[[ 6.  3.  7.  6. -5.  0.]\n",
      " [-7. -4. -1.  6. -1. -4.]\n",
      " [-6.  7.  3.  6. -6.  8.]\n",
      " [-3.  6. -8.  9. -5.  4.]\n",
      " [-9. -2. -8.  0. -7.  8.]\n",
      " [ 3. -9. -8. -8. -2. -1.]]\n"
     ]
    }
   ],
   "source": [
    "n = 6\n",
    "A = np.array([[np.random.randint(10)*np.random.choice([-1,1]) for x in range(n)] for y in range(n)]).astype(float)\n",
    "A = A.astype(float)\n",
    "A1 = A.copy()\n",
    "print(A)"
   ]
  },
  {
   "cell_type": "code",
   "execution_count": 60,
   "metadata": {},
   "outputs": [],
   "source": [
    "d = np.diagflat(np.diag(A))\n",
    "U = (np.tril(A.T).T) - d\n",
    "L = (np.tril(A)) - d"
   ]
  }
 ],
 "metadata": {
  "kernelspec": {
   "display_name": "Python 3",
   "language": "python",
   "name": "python3"
  },
  "language_info": {
   "codemirror_mode": {
    "name": "ipython",
    "version": 3
   },
   "file_extension": ".py",
   "mimetype": "text/x-python",
   "name": "python",
   "nbconvert_exporter": "python",
   "pygments_lexer": "ipython3",
   "version": "3.6.8"
  }
 },
 "nbformat": 4,
 "nbformat_minor": 2
}
