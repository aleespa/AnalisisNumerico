{
 "cells": [
  {
   "cell_type": "code",
   "execution_count": 1,
   "metadata": {},
   "outputs": [],
   "source": [
    "import numpy as np\n",
    "import matplotlib.pylab as plt\n",
    "from numpy.linalg import inv\n",
    "%matplotlib inline"
   ]
  },
  {
   "cell_type": "code",
   "execution_count": 5,
   "metadata": {},
   "outputs": [
    {
     "data": {
      "image/png": "[encoded data removed]",
      "text/plain": [
       "<Figure size 432x288 with 1 Axes>"
      ]
     },
     "metadata": {},
     "output_type": "display_data"
    }
   ],
   "source": [
    "t = [np.random.uniform(0,15) for _ in range(100)]\n",
    "u = [(t[i] + np.random.normal(0,1)-8)**3 for i in range(100)]\n",
    "m = len(u)\n",
    "f = lambda t,x : (t-x[0])**2 + x[1]\n",
    "g = lambda x: sum([(f(t[i],x)-u[i])**2 for i in range(m)])\n",
    "grad_g = lambda x: np.array([-4*sum([(t[i]-x[0])*((t[i]-x[0])**2 + x[1] - u[i]) for i in range(m)]),\n",
    "                                  2*sum([(t[i]-x[0])**2 + x[1] - u[i] for i in range(m)])])\n",
    "\n",
    "hes_g = lambda x: np.array([[sum([4*((t[i]-x[0])**2+x[1]-u[i])+8*(t[i]-x[0])**2 for i in range(m)]),\n",
    "                                -4*sum([(t[i]-x[0]) for i in range(m)])],\n",
    "                                [-4*sum([(t[i]-x[0]) for i in range(m)]),\n",
    "                                2*m]])\n",
    "x0 = np.array((0,0))\n",
    "for i in range(100):\n",
    "    A = hes_g(x0)\n",
    "    x0 = x0 - np.matmul(inv(A),grad_g(x0))\n",
    "_ = plt.scatter(t,u,s=5)\n",
    "_ = plt.plot(np.linspace(0,15),[f(t,x0) for t in np.linspace(0,15)],color ='red')\n",
    "_ = plt.title('$h(y)=(y+{:.2f})^2+{:.2f}$'.format(x0[0],x0[1]))"
   ]
  },
  {
   "cell_type": "code",
   "execution_count": 10,
   "metadata": {},
   "outputs": [
    {
     "ename": "SyntaxError",
     "evalue": "invalid syntax (<ipython-input-10-516ad1405ddd>, line 27)",
     "output_type": "error",
     "traceback": [
      "\u001b[0;36m  File \u001b[0;32m\"<ipython-input-10-516ad1405ddd>\"\u001b[0;36m, line \u001b[0;32m27\u001b[0m\n\u001b[0;31m    .\u001b[0m\n\u001b[0m    ^\u001b[0m\n\u001b[0;31mSyntaxError\u001b[0m\u001b[0;31m:\u001b[0m invalid syntax\n"
     ]
    }
   ],
   "source": [
    "class RegresionNoLineal:\n",
    "    def __init__(self,t,u):\n",
    "        self.t = t\n",
    "        self.u = u\n",
    "        if len(u) != len(t):\n",
    "            raise ValueError('El tamaño de los vectores no es el mismo')\n",
    "        self.m = len(u)\n",
    "    def Cuadratica(self,n_iter=100):\n",
    "        f = lambda t,x : (t-x[0])**2 + x[1]\n",
    "        g = lambda x: sum([(f(self.t[i],x)-self.u[i])**2 for i in range(self.m)])\n",
    "        grad_g = lambda x: np.array([-4*sum([(self.t[i]-x[0])*((self.t[i]-x[0])**2 + x[1] - self.u[i]) for i in range(self.m)]),\n",
    "                                          2*sum([(self.t[i]-x[0])**2 + x[1] - self.u[i] for i in range(self.m)])])\n",
    "\n",
    "        hes_g = lambda x: np.array([[sum([4*((self.t[i]-x[0])**2+x[1]-self.u[i])+8*(self.t[i]-x[0])**2 for i in range(self.m)]),\n",
    "                                        -4*sum([(self.t[i]-x[0]) for i in range(self.m)])],\n",
    "                                        [-4*sum([(self.t[i]-x[0]) for i in range(self.m)]),\n",
    "                                        2*self.m]])\n",
    "        x0 = np.array((0,0))\n",
    "        for i in range(n_iter):\n",
    "            A = hes_g(x0)\n",
    "            x0 = x0 - np.matmul(inv(A),grad_g(x0))\n",
    "        _ = plt.scatter(self.t,self.u,s=5)\n",
    "        _ = plt.plot(np.linspace(0,15),[f(t,x0) for t in np.linspace(0,15)],color ='red')\n",
    "        _ = plt.title('$h(y)=(y+{:.2f})^2+{:.2f}$'.format(x0[0],x0[1]))\n",
    "        self.params = x0\n",
    "    def Exponencial(self,n_iter=100):\n",
    "        .\n",
    "        .\n",
    "        .\n",
    "    def Seno(self,n_iter=100):\n",
    "        .\n",
    "        .\n",
    "        .\n",
    "    def Logaritmica(self,n_iter=100):\n",
    "        .\n",
    "        .\n",
    "        .\n",
    "    def Cociente(self,n_iter=100):\n",
    "        .\n",
    "        .\n",
    "        .\n",
    "  \n"
   ]
  },
  {
   "cell_type": "code",
   "execution_count": 6,
   "metadata": {},
   "outputs": [],
   "source": [
    "class RegresionNoLineal:\n",
    "    def __init__(self,t,u):\n",
    "        self.t = t\n",
    "        self.u = u\n",
    "        if len(u) != len(t):\n",
    "            raise ValueError('El tamaño de los vectores no es el mismo')\n",
    "        self.m = len(u)\n",
    "    def Cuadratica(self,n_iter=100):\n",
    "        f = lambda t,x : (t-x[0])**2 + x[1]\n",
    "        g = lambda x: sum([(f(self.t[i],x)-self.u[i])**2 for i in range(self.m)])\n",
    "        grad_g = lambda x: np.array([-4*sum([(self.t[i]-x[0])*((self.t[i]-x[0])**2 + x[1] - self.u[i]) for i in range(self.m)]),\n",
    "                                          2*sum([(self.t[i]-x[0])**2 + x[1] - self.u[i] for i in range(self.m)])])\n",
    "\n",
    "        hes_g = lambda x: np.array([[sum([4*((self.t[i]-x[0])**2+x[1]-self.u[i])+8*(self.t[i]-x[0])**2 for i in range(self.m)]),\n",
    "                                        -4*sum([(self.t[i]-x[0]) for i in range(self.m)])],\n",
    "                                        [-4*sum([(self.t[i]-x[0]) for i in range(self.m)]),\n",
    "                                        2*self.m]])\n",
    "        x0 = np.array((0,0))\n",
    "        for i in range(n_iter):\n",
    "            A = hes_g(x0)\n",
    "            x0 = x0 - np.matmul(inv(A),grad_g(x0))\n",
    "        _ = plt.scatter(self.t,self.u,s=5)\n",
    "        _ = plt.plot(np.linspace(0,15),[f(t,x0) for t in np.linspace(0,15)],color ='red')\n",
    "        _ = plt.title('$h(y)=(y+{:.2f})^2+{:.2f}$'.format(x0[0],x0[1]))\n",
    "        self.params = x0\n"
   ]
  },
  {
   "cell_type": "code",
   "execution_count": 9,
   "metadata": {},
   "outputs": [
    {
     "ename": "ValueError",
     "evalue": "El tamaño de los vectores no es el mismo",
     "output_type": "error",
     "traceback": [
      "\u001b[0;31m---------------------------------------------------------------------------\u001b[0m",
      "\u001b[0;31mValueError\u001b[0m                                Traceback (most recent call last)",
      "\u001b[0;32m<ipython-input-9-6b47c3e76ce6>\u001b[0m in \u001b[0;36m<module>\u001b[0;34m()\u001b[0m\n\u001b[1;32m      2\u001b[0m \u001b[0mU\u001b[0m \u001b[0;34m=\u001b[0m \u001b[0;34m[\u001b[0m\u001b[0;34m(\u001b[0m\u001b[0mT\u001b[0m\u001b[0;34m[\u001b[0m\u001b[0mi\u001b[0m\u001b[0;34m]\u001b[0m \u001b[0;34m+\u001b[0m \u001b[0mnp\u001b[0m\u001b[0;34m.\u001b[0m\u001b[0mrandom\u001b[0m\u001b[0;34m.\u001b[0m\u001b[0mnormal\u001b[0m\u001b[0;34m(\u001b[0m\u001b[0;36m0\u001b[0m\u001b[0;34m,\u001b[0m\u001b[0;36m1\u001b[0m\u001b[0;34m)\u001b[0m\u001b[0;34m-\u001b[0m\u001b[0;36m8\u001b[0m\u001b[0;34m)\u001b[0m\u001b[0;34m**\u001b[0m\u001b[0;36m2\u001b[0m \u001b[0;32mfor\u001b[0m \u001b[0mi\u001b[0m \u001b[0;32min\u001b[0m \u001b[0mrange\u001b[0m\u001b[0;34m(\u001b[0m\u001b[0;36m99\u001b[0m\u001b[0;34m)\u001b[0m\u001b[0;34m]\u001b[0m\u001b[0;34m\u001b[0m\u001b[0;34m\u001b[0m\u001b[0m\n\u001b[1;32m      3\u001b[0m \u001b[0;34m\u001b[0m\u001b[0m\n\u001b[0;32m----> 4\u001b[0;31m \u001b[0mReg\u001b[0m \u001b[0;34m=\u001b[0m \u001b[0mRegresionNoLineal\u001b[0m\u001b[0;34m(\u001b[0m\u001b[0mT\u001b[0m\u001b[0;34m,\u001b[0m\u001b[0mU\u001b[0m\u001b[0;34m)\u001b[0m\u001b[0;34m\u001b[0m\u001b[0;34m\u001b[0m\u001b[0m\n\u001b[0m\u001b[1;32m      5\u001b[0m \u001b[0mReg\u001b[0m\u001b[0;34m.\u001b[0m\u001b[0mCuadratica\u001b[0m\u001b[0;34m(\u001b[0m\u001b[0;36m100\u001b[0m\u001b[0;34m)\u001b[0m\u001b[0;34m\u001b[0m\u001b[0;34m\u001b[0m\u001b[0m\n",
      "\u001b[0;32m<ipython-input-6-4d0c364d3933>\u001b[0m in \u001b[0;36m__init__\u001b[0;34m(self, t, u)\u001b[0m\n\u001b[1;32m      4\u001b[0m         \u001b[0mself\u001b[0m\u001b[0;34m.\u001b[0m\u001b[0mu\u001b[0m \u001b[0;34m=\u001b[0m \u001b[0mu\u001b[0m\u001b[0;34m\u001b[0m\u001b[0;34m\u001b[0m\u001b[0m\n\u001b[1;32m      5\u001b[0m         \u001b[0;32mif\u001b[0m \u001b[0mlen\u001b[0m\u001b[0;34m(\u001b[0m\u001b[0mu\u001b[0m\u001b[0;34m)\u001b[0m \u001b[0;34m!=\u001b[0m \u001b[0mlen\u001b[0m\u001b[0;34m(\u001b[0m\u001b[0mt\u001b[0m\u001b[0;34m)\u001b[0m\u001b[0;34m:\u001b[0m\u001b[0;34m\u001b[0m\u001b[0;34m\u001b[0m\u001b[0m\n\u001b[0;32m----> 6\u001b[0;31m             \u001b[0;32mraise\u001b[0m \u001b[0mValueError\u001b[0m\u001b[0;34m(\u001b[0m\u001b[0;34m'El tamaño de los vectores no es el mismo'\u001b[0m\u001b[0;34m)\u001b[0m\u001b[0;34m\u001b[0m\u001b[0;34m\u001b[0m\u001b[0m\n\u001b[0m\u001b[1;32m      7\u001b[0m         \u001b[0mself\u001b[0m\u001b[0;34m.\u001b[0m\u001b[0mm\u001b[0m \u001b[0;34m=\u001b[0m \u001b[0mlen\u001b[0m\u001b[0;34m(\u001b[0m\u001b[0mu\u001b[0m\u001b[0;34m)\u001b[0m\u001b[0;34m\u001b[0m\u001b[0;34m\u001b[0m\u001b[0m\n\u001b[1;32m      8\u001b[0m     \u001b[0;32mdef\u001b[0m \u001b[0mCuadratica\u001b[0m\u001b[0;34m(\u001b[0m\u001b[0mself\u001b[0m\u001b[0;34m,\u001b[0m\u001b[0mn_iter\u001b[0m\u001b[0;34m=\u001b[0m\u001b[0;36m100\u001b[0m\u001b[0;34m)\u001b[0m\u001b[0;34m:\u001b[0m\u001b[0;34m\u001b[0m\u001b[0;34m\u001b[0m\u001b[0m\n",
      "\u001b[0;31mValueError\u001b[0m: El tamaño de los vectores no es el mismo"
     ]
    }
   ],
   "source": [
    "T = [np.random.uniform(0,15) for _ in range(100)]\n",
    "U = [(T[i] + np.random.normal(0,1)-8)**2 for i in range(99)]\n",
    "\n",
    "Reg = RegresionNoLineal(T,U)\n",
    "Reg.Cuadratica(100)"
   ]
  },
  {
   "cell_type": "code",
   "execution_count": 27,
   "metadata": {},
   "outputs": [
    {
     "data": {
      "text/plain": [
       "array([7.6633018, 0.4946522])"
      ]
     },
     "execution_count": 27,
     "metadata": {},
     "output_type": "execute_result"
    }
   ],
   "source": [
    "Reg.params"
   ]
  }
 ],
 "metadata": {
  "kernelspec": {
   "display_name": "Python 2",
   "language": "python",
   "name": "python2"
  },
  "language_info": {
   "codemirror_mode": {
    "name": "ipython",
    "version": 2
   },
   "file_extension": ".py",
   "mimetype": "text/x-python",
   "name": "python",
   "nbconvert_exporter": "python",
   "pygments_lexer": "ipython2",
   "version": "2.7.15+"
  }
 },
 "nbformat": 4,
 "nbformat_minor": 2
}
