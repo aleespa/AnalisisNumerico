{
 "cells": [
  {
   "cell_type": "code",
   "execution_count": 1,
   "metadata": {},
   "outputs": [],
   "source": [
    "from __future__ import division\n",
    "import numpy as np\n",
    "import math\n",
    "from math import sqrt\n",
    "import pandas as pd"
   ]
  },
  {
   "cell_type": "code",
   "execution_count": 2,
   "metadata": {},
   "outputs": [],
   "source": [
    "X = pd.DataFrame([[np.random.uniform() for j in range(4)] for j in range(4)])"
   ]
  },
  {
   "cell_type": "code",
   "execution_count": 3,
   "metadata": {},
   "outputs": [
    {
     "name": "stdout",
     "output_type": "stream",
     "text": [
      "[[ 0.02671455 -0.00171177 -0.00251593 -0.03834882]\n",
      " [-0.00171177  0.10245566 -0.13986409  0.02876739]\n",
      " [-0.00251593 -0.13986409  0.2010364  -0.03124281]\n",
      " [-0.03834882  0.02876739 -0.03124281  0.0619548 ]]\n"
     ]
    }
   ],
   "source": [
    "A = np.matrix(X.cov())\n",
    "print(A)"
   ]
  },
  {
   "cell_type": "code",
   "execution_count": 7,
   "metadata": {},
   "outputs": [],
   "source": [
    "def Cholesky(A):\n",
    "    n = len(A)\n",
    "    L = np.matrix(np.zeros([n,n]))\n",
    "    for i in range(n):\n",
    "        L[i,i] = sqrt(A[i,i]-sum(L[i,j]**2 for j in range(i) if j != i))\n",
    "        for j in range(i+1,n):\n",
    "            L[j,i] = (A[j,i]- sum(L[j,k]*L[i,k] for k in range(j-1)))/L[i,i]\n",
    "    return(L)"
   ]
  },
  {
   "cell_type": "code",
   "execution_count": 8,
   "metadata": {},
   "outputs": [
    {
     "data": {
      "text/plain": [
       "matrix([[ 1.63445854e-01,  0.00000000e+00,  0.00000000e+00,\n",
       "          0.00000000e+00],\n",
       "        [-1.04730233e-02,  3.19915572e-01,  0.00000000e+00,\n",
       "          0.00000000e+00],\n",
       "        [-1.53930389e-02, -4.37694549e-01,  9.60361325e-02,\n",
       "          0.00000000e+00],\n",
       "        [-2.34627045e-01,  8.22408715e-02,  1.18908475e-02,\n",
       "          5.89020114e-09]])"
      ]
     },
     "execution_count": 8,
     "metadata": {},
     "output_type": "execute_result"
    }
   ],
   "source": [
    "Cholesky(A)"
   ]
  }
 ],
 "metadata": {
  "kernelspec": {
   "display_name": "Python 2",
   "language": "python",
   "name": "python2"
  },
  "language_info": {
   "codemirror_mode": {
    "name": "ipython",
    "version": 2
   },
   "file_extension": ".py",
   "mimetype": "text/x-python",
   "name": "python",
   "nbconvert_exporter": "python",
   "pygments_lexer": "ipython2",
   "version": "2.7.15+"
  }
 },
 "nbformat": 4,
 "nbformat_minor": 2
}
