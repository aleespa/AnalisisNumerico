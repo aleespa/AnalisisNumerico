{
 "cells": [
  {
   "cell_type": "code",
   "execution_count": 3,
   "metadata": {},
   "outputs": [],
   "source": [
    "import numpy as np\n",
    "import math"
   ]
  },
  {
   "cell_type": "code",
   "execution_count": 646,
   "metadata": {},
   "outputs": [
    {
     "name": "stdout",
     "output_type": "stream",
     "text": [
      "[[ 8.  5.  5. -1.  6.  4.  3.]\n",
      " [-7. -3.  7. -3.  1. -2.  3.]\n",
      " [ 3.  3.  2. -7. -1. -5.  5.]\n",
      " [ 8. -9. -5.  4.  1. -4.  9.]\n",
      " [-5.  5. -6.  0.  1. -3.  3.]\n",
      " [ 1.  1. -4. -9. -6. -7.  5.]]\n"
     ]
    }
   ],
   "source": [
    "n = 6\n",
    "A = np.matrix([[np.random.randint(10)*np.random.choice([-1,1]) for x in range(n+1)] for y in range(n)]).astype(float)\n",
    "A = A.astype(float)\n",
    "A1 = A.copy()\n",
    "print(A)"
   ]
  },
  {
   "cell_type": "code",
   "execution_count": 647,
   "metadata": {},
   "outputs": [
    {
     "name": "stdout",
     "output_type": "stream",
     "text": [
      "[[  8.           5.           5.          -1.           6.\n",
      "    4.           3.        ]\n",
      " [  0.           1.375       11.375       -3.875        6.25\n",
      "    1.5          5.625     ]\n",
      " [  0.           0.          -9.18181818  -3.45454545  -8.36363636\n",
      "   -7.72727273  -0.72727273]\n",
      " [  0.           0.           0.         -74.26732673 -37.75247525\n",
      "  -81.78217822  54.89108911]\n",
      " [  0.           0.           0.           0.           6.93627516\n",
      "   -3.94187442  13.14064791]\n",
      " [  0.           0.           0.           0.           0.\n",
      "    4.61592573  -1.97370697]]\n"
     ]
    }
   ],
   "source": [
    "for i in range(1,n):\n",
    "    if A[i-1,i-1] == 0:\n",
    "        A[[i-1,i]] = A[[i,i-1]]\n",
    "    for j in range(i,n):\n",
    "        A[j] = A[j]-(A[j,i-1]/A[i-1,i-1])*A[i-1]\n",
    "print(A)"
   ]
  },
  {
   "cell_type": "code",
   "execution_count": 648,
   "metadata": {},
   "outputs": [],
   "source": [
    "X = np.matrix([0 for x in range(n)]).astype(float)\n",
    "X[0,n-1] = A[n-1,n]/A[n-1,n-1]\n",
    "for i in range(n-1):\n",
    "    X[0,n-i-2] = (A[n-i-2,n]-sum([A[n-i-2,j+1]*X[0,j+1] for j in range(n-i-2,n-1)]))/A[n-i-2,n-i-2]"
   ]
  },
  {
   "cell_type": "code",
   "execution_count": 649,
   "metadata": {},
   "outputs": [
    {
     "data": {
      "text/plain": [
       "matrix([[ 0.05856047, -0.70647313, -0.64848727, -1.10775227,  1.65148525,\n",
       "         -0.42758638]])"
      ]
     },
     "execution_count": 649,
     "metadata": {},
     "output_type": "execute_result"
    }
   ],
   "source": [
    "X"
   ]
  },
  {
   "cell_type": "code",
   "execution_count": 650,
   "metadata": {},
   "outputs": [
    {
     "data": {
      "text/plain": [
       "matrix([[3.],\n",
       "        [3.],\n",
       "        [5.],\n",
       "        [9.],\n",
       "        [3.],\n",
       "        [5.]])"
      ]
     },
     "execution_count": 650,
     "metadata": {},
     "output_type": "execute_result"
    }
   ],
   "source": [
    "A1[:,[k for k in range(n)]]*X.T"
   ]
  }
 ],
 "metadata": {
  "kernelspec": {
   "display_name": "Python 3",
   "language": "python",
   "name": "python3"
  },
  "language_info": {
   "codemirror_mode": {
    "name": "ipython",
    "version": 3
   },
   "file_extension": ".py",
   "mimetype": "text/x-python",
   "name": "python",
   "nbconvert_exporter": "python",
   "pygments_lexer": "ipython3",
   "version": "3.6.8"
  }
 },
 "nbformat": 4,
 "nbformat_minor": 2
}
